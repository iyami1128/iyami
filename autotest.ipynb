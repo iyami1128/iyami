{
  "nbformat": 4,
  "nbformat_minor": 0,
  "metadata": {
    "colab": {
      "name": "autotest.ipynb",
      "provenance": [],
      "toc_visible": true
    },
    "kernelspec": {
      "name": "python3",
      "display_name": "Python 3"
    }
  },
  "cells": [
    {
      "cell_type": "markdown",
      "metadata": {
        "id": "7benhFkbsuF2",
        "colab_type": "text"
      },
      "source": [
        "# setting"
      ]
    },
    {
      "cell_type": "code",
      "metadata": {
        "id": "_1Mj9Y-GsuF5",
        "colab_type": "code",
        "colab": {}
      },
      "source": [
        "\n",
        "%matplotlib inline\n",
        "import matplotlib.pyplot as plt\n",
        "import numpy as np\n",
        "import pandas as pd\n"
      ],
      "execution_count": 0,
      "outputs": []
    },
    {
      "cell_type": "markdown",
      "metadata": {
        "id": "GgjKuoOAs3VC",
        "colab_type": "text"
      },
      "source": [
        "# 田中セクション"
      ]
    },
    {
      "cell_type": "code",
      "metadata": {
        "id": "V4JVt453s5-U",
        "colab_type": "code",
        "colab": {
          "base_uri": "https://localhost:8080/",
          "height": 253
        },
        "outputId": "2ecf2c94-1b05-46bc-adbb-833d76c17b3d"
      },
      "source": [
        "# coding: UTF-8\n",
        "from bs4 import BeautifulSoup\n",
        "from datetime import datetime, timedelta, timezone\n",
        "import csv\n",
        "import time\n",
        "import requests\n",
        "\n",
        "time_flag = True\n",
        "\n",
        "# 永久に実行させます\n",
        "while True:\n",
        "    time.sleep(59)\n",
        "\n",
        "#     # 時間が59分以外の場合は58秒間時間を待機する\n",
        "#     if datetime.now().minute != 59:\n",
        "#       # 59分ではないので1分(58秒)間待機します(誤差がないとは言い切れないので58秒です)\n",
        "#       time.sleep(58)\n",
        "#       continue\n",
        "\n",
        "    # csvを追記モードで開きます→ここでcsvを開くのはファイルが大きくなった時にcsvを開くのに時間がかかるためです\n",
        "    f = open('nikkei_heikin.csv', 'a')\n",
        "    writer = csv.writer(f, lineterminator='\\n')\n",
        "\n",
        "#     # 59分になりましたが正確な時間に測定をするために秒間隔で59秒になるまで抜け出せません\n",
        "#     while datetime.now().second != 59:\n",
        "#       # 00秒ではないので1秒待機\n",
        "#       time.sleep(1)\n",
        "#     # 処理が早く終わり二回繰り返してしまうのでここで一秒間待機します\n",
        "#     time.sleep(1)\n",
        "\n",
        "    # csvに記述するレコードを作成します\n",
        "    csv_list = []\n",
        "\n",
        "    # 現在の時刻を年、月、日、時、分、秒で取得します\n",
        "    JST = timezone(timedelta(hours=+9), 'JST')\n",
        "    time_ = datetime.now(JST).strftime(\"%Y/%m/%d %H:%M:%S\")\n",
        "    # 1カラム目に時間を挿入します\n",
        "    csv_list.append(time_)\n",
        "\n",
        "    # アクセスするURL\n",
        "    url = \"https://api.bitflyer.com/v1/board\"\n",
        "    response = requests.get(url)\n",
        "    data = response.json()\n",
        "    # 摘出した日経平均株価を時間とともに出力します。\n",
        "    print( time_, data[\"mid_price\"])\n",
        "    # 2カラム目に日経平均を記録します\n",
        "    csv_list.append(data[\"mid_price\"])\n",
        "    # csvに追記敷きます\n",
        "    writer.writerow(csv_list)\n",
        "    # ファイル破損防止のために閉じます\n",
        "    f.close()"
      ],
      "execution_count": 2,
      "outputs": [
        {
          "output_type": "stream",
          "text": [
            "2019/12/04 20:39:22 781907.0\n"
          ],
          "name": "stdout"
        },
        {
          "output_type": "error",
          "ename": "KeyboardInterrupt",
          "evalue": "ignored",
          "traceback": [
            "\u001b[0;31m---------------------------------------------------------------------------\u001b[0m",
            "\u001b[0;31mKeyboardInterrupt\u001b[0m                         Traceback (most recent call last)",
            "\u001b[0;32m<ipython-input-2-f1edc8daad92>\u001b[0m in \u001b[0;36m<module>\u001b[0;34m()\u001b[0m\n\u001b[1;32m      9\u001b[0m \u001b[0;31m# 永久に実行させます\u001b[0m\u001b[0;34m\u001b[0m\u001b[0;34m\u001b[0m\u001b[0;34m\u001b[0m\u001b[0m\n\u001b[1;32m     10\u001b[0m \u001b[0;32mwhile\u001b[0m \u001b[0;32mTrue\u001b[0m\u001b[0;34m:\u001b[0m\u001b[0;34m\u001b[0m\u001b[0;34m\u001b[0m\u001b[0m\n\u001b[0;32m---> 11\u001b[0;31m     \u001b[0mtime\u001b[0m\u001b[0;34m.\u001b[0m\u001b[0msleep\u001b[0m\u001b[0;34m(\u001b[0m\u001b[0;36m59\u001b[0m\u001b[0;34m)\u001b[0m\u001b[0;34m\u001b[0m\u001b[0;34m\u001b[0m\u001b[0m\n\u001b[0m\u001b[1;32m     12\u001b[0m \u001b[0;34m\u001b[0m\u001b[0m\n\u001b[1;32m     13\u001b[0m \u001b[0;31m#     # 時間が59分以外の場合は58秒間時間を待機する\u001b[0m\u001b[0;34m\u001b[0m\u001b[0;34m\u001b[0m\u001b[0;34m\u001b[0m\u001b[0m\n",
            "\u001b[0;31mKeyboardInterrupt\u001b[0m: "
          ]
        }
      ]
    }
  ]
}